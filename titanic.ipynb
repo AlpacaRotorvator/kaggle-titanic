{
 "cells": [
  {
   "cell_type": "code",
   "execution_count": 118,
   "metadata": {},
   "outputs": [],
   "source": [
    "import numpy as np\n",
    "\n",
    "import pandas as pd\n",
    "\n",
    "import matplotlib.pyplot as plt\n",
    "import seaborn as sns\n",
    "\n",
    "\n",
    "from sklearn.tree import DecisionTreeClassifier\n",
    "from sklearn.cross_validation import train_test_split\n",
    "from sklearn.ensemble import RandomForestClassifier\n",
    "from sklearn.model_selection import cross_val_score"
   ]
  },
  {
   "cell_type": "code",
   "execution_count": 119,
   "metadata": {},
   "outputs": [],
   "source": [
    "%matplotlib qt5"
   ]
  },
  {
   "cell_type": "code",
   "execution_count": 137,
   "metadata": {},
   "outputs": [
    {
     "name": "stdout",
     "output_type": "stream",
     "text": [
      "<class 'pandas.core.frame.DataFrame'>\n",
      "RangeIndex: 418 entries, 0 to 417\n",
      "Data columns (total 11 columns):\n",
      "PassengerId    418 non-null int64\n",
      "Pclass         418 non-null int64\n",
      "Name           418 non-null object\n",
      "Sex            418 non-null object\n",
      "Age            332 non-null float64\n",
      "SibSp          418 non-null int64\n",
      "Parch          418 non-null int64\n",
      "Ticket         418 non-null object\n",
      "Fare           417 non-null float64\n",
      "Cabin          91 non-null object\n",
      "Embarked       418 non-null object\n",
      "dtypes: float64(2), int64(4), object(5)\n",
      "memory usage: 36.0+ KB\n"
     ]
    }
   ],
   "source": [
    "titanic_test = pd.read_csv('data/test.csv')\n",
    "titanic_test.info()"
   ]
  },
  {
   "cell_type": "code",
   "execution_count": 120,
   "metadata": {},
   "outputs": [
    {
     "name": "stdout",
     "output_type": "stream",
     "text": [
      "<class 'pandas.core.frame.DataFrame'>\n",
      "RangeIndex: 891 entries, 0 to 890\n",
      "Data columns (total 12 columns):\n",
      "PassengerId    891 non-null int64\n",
      "Survived       891 non-null int64\n",
      "Pclass         891 non-null int64\n",
      "Name           891 non-null object\n",
      "Sex            891 non-null object\n",
      "Age            714 non-null float64\n",
      "SibSp          891 non-null int64\n",
      "Parch          891 non-null int64\n",
      "Ticket         891 non-null object\n",
      "Fare           891 non-null float64\n",
      "Cabin          204 non-null object\n",
      "Embarked       889 non-null object\n",
      "dtypes: float64(2), int64(5), object(5)\n",
      "memory usage: 83.6+ KB\n"
     ]
    }
   ],
   "source": [
    "titanic = pd.read_csv('data/train.csv')\n",
    "titanic.info()"
   ]
  },
  {
   "cell_type": "markdown",
   "metadata": {},
   "source": [
    "### On missing data\n",
    "\n",
    "#### Training set\n",
    "* 177(~20%) of **ages** are missing. Age is expected to be a strong predictor. I should work on remedying that, [Gertlowitz](http://gertlowitz.blogspot.com.br/2013/06/where-am-i-up-to-with-titanic-competion.html) used people's titles(Ms., Mr. etc.) to predict missing ages to good measure.\n",
    "\n",
    "* 3(<1%) people are missing **embark** points. This shouldn't be too important, but my swarmplots indicated there might be something at work there.\n",
    "\n",
    "* 687(~80%) people are missing **cabin** information. I expect deck location and floor to be a reasonable predictor, but there might not be a way to reliably estimate missing data.\n",
    "\n",
    "##### Test set\n",
    "* 86(~20%) are missing **ages**.\n",
    "\n",
    "* 1(<1%) is missing **fare**\n",
    "\n",
    "* 327(~80%) are missing **cabin**."
   ]
  },
  {
   "cell_type": "markdown",
   "metadata": {},
   "source": [
    "# Data cleaning\n",
    "\n",
    "### Decategorizing data\n",
    "\n",
    "* Sex: m,f -> 0,1\n",
    "\n",
    "* Embarked: C,Q,S,nan -> 0,1,2,3\n",
    "\n",
    "(It's really about forcing them into categories represented by numbers)"
   ]
  },
  {
   "cell_type": "code",
   "execution_count": 121,
   "metadata": {},
   "outputs": [],
   "source": [
    "def decat_Embarked (item):\n",
    "    return {'C': 0, 'Q': 1, 'S': 2, 'U':3}[item]\n",
    "\n",
    "def decat_Sex (item):\n",
    "    return {'male': 0, 'female': 1}[item]"
   ]
  },
  {
   "cell_type": "code",
   "execution_count": 122,
   "metadata": {},
   "outputs": [],
   "source": [
    "titanic.Embarked = titanic.Embarked.fillna('U')\n",
    "titanic.Embarked = titanic.Embarked.apply(decat_Embarked)\n",
    "\n",
    "titanic.Sex = titanic.Sex.apply(decat_Sex)"
   ]
  },
  {
   "cell_type": "code",
   "execution_count": 123,
   "metadata": {},
   "outputs": [
    {
     "name": "stdout",
     "output_type": "stream",
     "text": [
      "<class 'pandas.core.frame.DataFrame'>\n",
      "Int64Index: 714 entries, 0 to 890\n",
      "Data columns (total 9 columns):\n",
      "PassengerId    714 non-null int64\n",
      "Survived       714 non-null int64\n",
      "Pclass         714 non-null int64\n",
      "Sex            714 non-null int64\n",
      "Age            714 non-null float64\n",
      "SibSp          714 non-null int64\n",
      "Parch          714 non-null int64\n",
      "Fare           714 non-null float64\n",
      "Embarked       714 non-null int64\n",
      "dtypes: float64(2), int64(7)\n",
      "memory usage: 55.8 KB\n"
     ]
    }
   ],
   "source": [
    "used_features = ['PassengerId', 'Survived', 'Pclass', 'Sex', 'Age',\n",
    "                 'SibSp', 'Parch', 'Fare', 'Embarked']\n",
    "titanic_valid = titanic.loc[:, used_features].dropna()\n",
    "titanic_valid.info()"
   ]
  },
  {
   "cell_type": "code",
   "execution_count": 124,
   "metadata": {},
   "outputs": [],
   "source": [
    "train, test = train_test_split(titanic_valid.iloc[:, 1:])"
   ]
  },
  {
   "cell_type": "markdown",
   "metadata": {},
   "source": [
    "Random forest classifier, just to get things going:"
   ]
  },
  {
   "cell_type": "code",
   "execution_count": 136,
   "metadata": {},
   "outputs": [
    {
     "name": "stdout",
     "output_type": "stream",
     "text": [
      "Accuracy: 0.80 (+/- 0.09)\n"
     ]
    }
   ],
   "source": [
    "model = RandomForestClassifier(criterion='entropy', n_jobs=3)\n",
    "#model.fit(train.iloc[:, 1:], train['Survived'])\n",
    "#model.score(test.iloc[:, 1:], test['Survived'])\n",
    "scores = cross_val_score(model, titanic_valid.iloc[:, 2:], \n",
    "                         titanic_valid['Survived'], cv=10)\n",
    "print(\"Accuracy: {:0.2f} (+/- {:0.2f})\".format(scores.mean(), scores.std() * 2))"
   ]
  },
  {
   "cell_type": "markdown",
   "metadata": {},
   "source": [
    "With a random forest(or even a simple decision tree) and Pclass, Sex, Age, SibSp, Parch, Fare and Embarked as features 82% accuracy seems to be the best I can do."
   ]
  },
  {
   "cell_type": "code",
   "execution_count": 94,
   "metadata": {},
   "outputs": [],
   "source": [
    "cabineers = titanic[titanic.Cabin.notna()]"
   ]
  },
  {
   "cell_type": "code",
   "execution_count": 97,
   "metadata": {},
   "outputs": [
    {
     "data": {
      "text/plain": [
       "Pclass\n",
       "1    176\n",
       "2     16\n",
       "3     12\n",
       "dtype: int64"
      ]
     },
     "execution_count": 97,
     "metadata": {},
     "output_type": "execute_result"
    }
   ],
   "source": [
    "groups = cabineers.groupby('Pclas1s')\n",
    "groups.size()"
   ]
  },
  {
   "cell_type": "code",
   "execution_count": 113,
   "metadata": {},
   "outputs": [
    {
     "data": {
      "text/plain": [
       "Ticket\n",
       "110152               3\n",
       "110413               3\n",
       "110465               2\n",
       "110564               1\n",
       "110813               1\n",
       "111240               1\n",
       "111320               1\n",
       "111361               2\n",
       "111369               1\n",
       "112050               1\n",
       "112053               1\n",
       "112058               1\n",
       "112059               1\n",
       "112277               1\n",
       "113028               1\n",
       "113043               1\n",
       "113050               1\n",
       "113051               1\n",
       "113055               1\n",
       "113056               1\n",
       "113501               1\n",
       "113503               1\n",
       "113505               2\n",
       "113509               1\n",
       "113510               1\n",
       "113514               1\n",
       "113572               2\n",
       "113760               4\n",
       "113767               1\n",
       "113773               1\n",
       "                    ..\n",
       "PC 17482             1\n",
       "PC 17483             1\n",
       "PC 17485             2\n",
       "PC 17558             2\n",
       "PC 17569             2\n",
       "PC 17572             3\n",
       "PC 17582             3\n",
       "PC 17590             1\n",
       "PC 17592             1\n",
       "PC 17593             2\n",
       "PC 17595             1\n",
       "PC 17596             1\n",
       "PC 17599             1\n",
       "PC 17608             2\n",
       "PC 17610             1\n",
       "PC 17754             1\n",
       "PC 17755             2\n",
       "PC 17756             1\n",
       "PC 17757             2\n",
       "PC 17758             2\n",
       "PC 17759             1\n",
       "PC 17760             2\n",
       "PC 17761             1\n",
       "PP 9549              2\n",
       "S.O./P.P. 3          1\n",
       "SC/AH Basle 541      1\n",
       "SC/Paris 2163        1\n",
       "SOTON/O.Q. 392078    1\n",
       "W.E.P. 5734          1\n",
       "WE/P 5735            2\n",
       "Length: 142, dtype: int64"
      ]
     },
     "execution_count": 113,
     "metadata": {},
     "output_type": "execute_result"
    }
   ],
   "source": [
    "ticket_groups = cabineers.groupby('Ticket')\n",
    "ticket_groups.size()"
   ]
  },
  {
   "cell_type": "code",
   "execution_count": 132,
   "metadata": {},
   "outputs": [
    {
     "data": {
      "text/plain": [
       "0.047517827758518684"
      ]
     },
     "execution_count": 132,
     "metadata": {},
     "output_type": "execute_result"
    }
   ],
   "source": []
  },
  {
   "cell_type": "code",
   "execution_count": null,
   "metadata": {},
   "outputs": [],
   "source": []
  }
 ],
 "metadata": {
  "kernelspec": {
   "display_name": "Python 3",
   "language": "python",
   "name": "python3"
  },
  "language_info": {
   "codemirror_mode": {
    "name": "ipython",
    "version": 3
   },
   "file_extension": ".py",
   "mimetype": "text/x-python",
   "name": "python",
   "nbconvert_exporter": "python",
   "pygments_lexer": "ipython3",
   "version": "3.6.5"
  }
 },
 "nbformat": 4,
 "nbformat_minor": 2
}
